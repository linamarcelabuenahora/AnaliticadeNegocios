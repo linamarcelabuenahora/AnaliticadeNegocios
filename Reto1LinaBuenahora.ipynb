{
  "nbformat": 4,
  "nbformat_minor": 0,
  "metadata": {
    "colab": {
      "provenance": [],
      "include_colab_link": true
    },
    "kernelspec": {
      "name": "python3",
      "display_name": "Python 3"
    },
    "language_info": {
      "name": "python"
    }
  },
  "cells": [
    {
      "cell_type": "markdown",
      "metadata": {
        "id": "view-in-github",
        "colab_type": "text"
      },
      "source": [
        "<a href=\"https://colab.research.google.com/github/linamarcelabuenahora/AnaliticadeNegocios/blob/main/Reto1LinaBuenahora.ipynb\" target=\"_parent\"><img src=\"https://colab.research.google.com/assets/colab-badge.svg\" alt=\"Open In Colab\"/></a>"
      ]
    },
    {
      "cell_type": "markdown",
      "source": [
        "** Reto 1: CarWash ** Lina Marcela Buenahora Quinto"
      ],
      "metadata": {
        "id": "xqfhEZB607-O"
      }
    },
    {
      "cell_type": "markdown",
      "source": [
        "0. Cargar las librerías"
      ],
      "metadata": {
        "id": "ENenG9Z21F4i"
      }
    },
    {
      "cell_type": "code",
      "source": [
        "import numpy as np\n",
        "import pandas as pd"
      ],
      "metadata": {
        "id": "Y7zVdUgO1WM8"
      },
      "execution_count": null,
      "outputs": []
    },
    {
      "cell_type": "markdown",
      "source": [
        "1. Se procede con la carga de la base de datos"
      ],
      "metadata": {
        "id": "A_nCASb21bqR"
      }
    },
    {
      "cell_type": "code",
      "source": [
        "nxl=\"/content/sample_data/1. BD2_CarCrash_Int (2).xlsx\"\n",
        "XDB=pd.read_excel(nxl,sheet_name=1)\n",
        "\n",
        "#Se cargan las variables de interés.\n",
        "XDB=XDB[['Weekday','ViolCat','ClearWeather','Month','CrashType','Highway','Daylight']]\n",
        "\n",
        "##Separamos las variables por Entrada-Salida.\n",
        "XD=XDB[['Weekday','ViolCat','ClearWeather','Month','CrashType','Daylight']] #Aquí están las variables de entrada.\n",
        "yd=XDB[['Highway']] #Aquí está la variable de referencia."
      ],
      "metadata": {
        "id": "-cczzYfTCpKG"
      },
      "execution_count": null,
      "outputs": []
    },
    {
      "cell_type": "markdown",
      "source": [
        "2. Se implementa el modelo"
      ],
      "metadata": {
        "id": "UdeB3gV-C3Mf"
      }
    },
    {
      "cell_type": "code",
      "source": [
        "from sklearn.naive_bayes import GaussianNB\n",
        "\n",
        "mnb=GaussianNB()\n",
        "mnb.fit(XD,yd)\n",
        "\n",
        "#Se obtiene la información:\n",
        "ct=mnb.class_count_\n",
        "print(\"**Cómo están separados los datos:**\\n\",ct)\n",
        "print(\"**El total de los datos es:**\\n\",len(XD))\n",
        "print(\"**Los datos porcentualmente están divididos en:**\\n\",(ct/len(XD))*100)\n",
        "\n",
        "#Se obtiene la información por categoría:\n",
        "u=mnb.theta_\n",
        "print(\"**La media de los accidentes por categoría es:**\\n\",u)\n",
        "std=mnb.var_  #Esto es Varianza\n",
        "std=np.sqrt(std)\n",
        "print(\"**La desviación estandar de los accidentes por categoría es:**\\n\",std)\n",
        "\n",
        "#Se identifican los valores superiores e inferiores de los ingresos.\n",
        "print(\"**El límite superior de los valores es:**\\n\",u+std)\n",
        "print(\"**El límite inferior de los valores es:**\\n\",u-std)\n",
        "\n",
        "#Para evaluar un solo caso:\n",
        "XS=[[5,1,1,3,4,0]]\n",
        "mnb.predict(XS)"
      ],
      "metadata": {
        "colab": {
          "base_uri": "https://localhost:8080/"
        },
        "id": "p4YvJ8t8E9M5",
        "outputId": "0b6d28f0-8af2-4cc5-a919-630d1e9b4819"
      },
      "execution_count": null,
      "outputs": [
        {
          "output_type": "stream",
          "name": "stdout",
          "text": [
            "**Cómo están separados los datos:**\n",
            " [1580.  501.]\n",
            "**El total de los datos es:**\n",
            " 2081\n",
            "**Los datos porcentualmente están divididos en:**\n",
            " [75.92503604 24.07496396]\n",
            "**La media de los accidentes por categoría es:**\n",
            " [[3.88417722 7.45696203 0.86265823 4.35189873 4.21772152 0.66265823]\n",
            " [3.9261477  4.1497006  0.79840319 6.69461078 3.27744511 0.62075848]]\n",
            "**La desviación estandar de los accidentes por categoría es:**\n",
            " [[1.95062542 3.52136997 0.34420782 2.3433645  1.87371962 0.47280262]\n",
            " [2.01603723 2.16198902 0.40119266 3.44163641 1.05765448 0.48519831]]\n",
            "**El límite superior de los valores es:**\n",
            " [[ 5.83480263 10.978332    1.20686605  6.69526323  6.09144114  1.13546084]\n",
            " [ 5.94218494  6.31168962  1.19959585 10.13624719  4.33509959  1.10595679]]\n",
            "**El límite inferior de los valores es:**\n",
            " [[1.9335518  3.93559205 0.51845041 2.00853424 2.3440019  0.18985561]\n",
            " [1.91011047 1.98771158 0.39721054 3.25297437 2.21979063 0.13556017]]\n"
          ]
        },
        {
          "output_type": "stream",
          "name": "stderr",
          "text": [
            "/usr/local/lib/python3.11/dist-packages/sklearn/utils/validation.py:1408: DataConversionWarning: A column-vector y was passed when a 1d array was expected. Please change the shape of y to (n_samples, ), for example using ravel().\n",
            "  y = column_or_1d(y, warn=True)\n",
            "/usr/local/lib/python3.11/dist-packages/sklearn/utils/validation.py:2739: UserWarning: X does not have valid feature names, but GaussianNB was fitted with feature names\n",
            "  warnings.warn(\n"
          ]
        },
        {
          "output_type": "execute_result",
          "data": {
            "text/plain": [
              "array([0])"
            ]
          },
          "metadata": {},
          "execution_count": 24
        }
      ]
    },
    {
      "cell_type": "markdown",
      "source": [
        "** Matriz de Confusión **\n",
        "\n",
        "3. Se procede con la evaluación o desempeño del modelo"
      ],
      "metadata": {
        "id": "gZPOWC6CDJe5"
      }
    },
    {
      "cell_type": "code",
      "source": [
        "ydp=mnb.predict(XD)  #Hazme el pronóstico de los positivos y negativos.\n",
        "from sklearn.metrics import confusion_matrix\n",
        "cm=confusion_matrix(yd,ydp)\n",
        "print(cm)\n",
        "\n",
        "VN=cm[0,0];FP=cm[0,1];FN=cm[1,0];VP=cm[1,1]\n",
        "\n",
        "Ex=((VN+VP)/(VN+VP+FN+FP))*100\n",
        "print(\"La exactitud del modelo es del:\",Ex)\n",
        "\n",
        "TE=((FN+FP)/(VN+VP+FN+FP))*100\n",
        "print(\"La tasa de error del modelo es del;\",TE)\n",
        "\n",
        "Sen=(VP/(VP+FN))*100\n",
        "print(\"La sensibilidad del modelo es del:\",Sen)\n",
        "\n",
        "Esp=(VN/(VN+FP))*100\n",
        "print(\"La especificidad del modelo es del:\",Esp)\n",
        "\n",
        "Pre=(VP/(VP+FP))*100\n",
        "print(\"La precisión del modelo es del:\",Pre)\n",
        "\n",
        "Pren=(VN/(VN+FN))*100\n",
        "print(\"La precisión negativa del modelo es del:\",Pren)"
      ],
      "metadata": {
        "colab": {
          "base_uri": "https://localhost:8080/"
        },
        "id": "M3UjASGJDQ8m",
        "outputId": "a3af9ce9-62bd-4ec0-be3a-464e155efe65"
      },
      "execution_count": null,
      "outputs": [
        {
          "output_type": "stream",
          "name": "stdout",
          "text": [
            "[[1365  215]\n",
            " [ 224  277]]\n",
            "La exactitud del modelo es del: 78.90437289764536\n",
            "La tasa de error del modelo es del; 21.095627102354637\n",
            "La sensibilidad del modelo es del: 55.28942115768463\n",
            "La especificidad del modelo es del: 86.39240506329115\n",
            "La precisión del modelo es del: 56.30081300813008\n",
            "La precisión negativa del modelo es del: 85.90308370044053\n"
          ]
        }
      ]
    },
    {
      "cell_type": "markdown",
      "source": [
        "**Análisis de Resultados**\n",
        "\n",
        "Con respecto a los resultados arrojados por el modelo, en la plataforma Collab usando el modelo Naive Bayes, de acuerdo con el archivo de Excel de referencia. Podemos observar que los accidentes están distribuidos según su tipo con 1,580 en una categoría y 501 en la otra, con porcentajes de 75.93% vs. 24.07%, respectivamente. Así mismo, vemos  que los valores de la categoría \"Día de la Semana\" (Weekday) varían dentro de los siguientes rangos: [5.83 - 5.94] y [1.93 - 1.91]. Mientras que la categoría \"ViolCat\" se encuentran en los intervalos [10.97 - 6.31] y [3.93 - 1.98] y \"CrashType\" fluctúan entre [6.09 - 4.33] y [2.34 - 2.21]. Con respecto a la evaluación de este modelo, podemos analizar que la exactitud del modelo es cercana al 80%, otorgando una buena capacidad predictiva en general, destacándose por una capacidad del modelo para identificar correctamente accidentes fuera de autopista bastante alta con una especificidad del 86% y una precisión de los accidentes en autopista del 56.30%."
      ],
      "metadata": {
        "id": "NsMyIEYDGX0H"
      }
    }
  ]
}